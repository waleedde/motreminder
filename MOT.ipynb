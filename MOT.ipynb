{
 "cells": [
  {
   "cell_type": "code",
   "execution_count": 3,
   "id": "5ad1a0f7",
   "metadata": {},
   "outputs": [],
   "source": [
    "import requests\n",
    "from datetime import datetime\n",
    "import smtplib\n",
    "import time\n",
    "import pandas as pd\n",
    "import xlrd\n",
    "import boto3\n",
    "import os\n",
    "from twilio.rest import Client"
   ]
  },
  {
   "cell_type": "code",
   "execution_count": 4,
   "id": "96544a04",
   "metadata": {},
   "outputs": [],
   "source": [
    "apiKey = '...' # API key obtained from the DVSA"
   ]
  },
  {
   "cell_type": "code",
   "execution_count": 5,
   "id": "028379cb",
   "metadata": {},
   "outputs": [],
   "source": [
    "# We need an excel or csv file that contains vehicle data that we need to search against the MOT database.\n",
    "# Can also use any other file format as long as it has tabular data that we can iterate over.\n",
    "\n",
    "df = pd.read_excel(r'vehicles.xlsx')\n",
    "registrations = df['registration'].tolist()  # Converting the registrations series to a list\n",
    "mobile = df['mobile'].tolist()  # Converting the mobile numbers series to a list\n",
    "email = df['email'].tolist()  # Converting the email series to a list"
   ]
  },
  {
   "cell_type": "code",
   "execution_count": 6,
   "id": "f74e57e1",
   "metadata": {},
   "outputs": [],
   "source": [
    "# Function to extract data from MOT database and return a list of days left for all the vehicles from our df\n",
    "\n",
    "def check_days_left(p):\n",
    "    headers = {\n",
    "        'Accept': 'application/json',\n",
    "        'x-api-key': apiKey,\n",
    "    }\n",
    "    params = (\n",
    "        ('registration', p),\n",
    "    )\n",
    "    response = requests.get('https://beta.check-mot.service.gov.uk/trade/vehicles/mot-tests',\n",
    "                            headers=headers, params=params)\n",
    "    r = response.json()  # This returns a list of dicts of the full MOT History data\n",
    "    carDetails = r[0]  # Access the first dictionary in the list. This contains the MOT data for the vehicles specified.\n",
    "    motTests = carDetails['motTests']  # This returns a list of dicts of each MOT test corresponding to the vehicles specified.\n",
    "    latestTest = motTests[0]  # Access the first dictionary to get the details of the latest test which will be used to find out when it expires.\n",
    "    expDate = latestTest['expiryDate']  # This returns the expiry date key of the latest test dictionary.\n",
    "    dtformat = datetime.strptime(expDate, '%Y.%m.%d')  # Convert expDate to datetime format.\n",
    "    difference = dtformat - datetime.now()  # Gets the timedelta between now and expiry date.\n",
    "    days_left = difference.days  # Extract the number of days from the above as an int.\n",
    "    return days_left"
   ]
  },
  {
   "cell_type": "code",
   "execution_count": 7,
   "id": "9f0b0e52",
   "metadata": {},
   "outputs": [],
   "source": [
    "# Function to call the check_days_left() function on our registrations list in order to get the days left until expiry of MOT for all the vehicles in the list.\n",
    "\n",
    "def get_days_left():\n",
    "    list_days_left = []\n",
    "    for reg in registrations:\n",
    "        list_days_left.append(check_days_left(reg))\n",
    "    df['days_left'] = list_days_left\n",
    "    return df"
   ]
  },
  {
   "cell_type": "code",
   "execution_count": null,
   "id": "5a6c5c93",
   "metadata": {},
   "outputs": [],
   "source": [
    "# Function to send email to the vehicle owners.\n",
    "\n",
    "def send_mail(ownerEmail, reg, days_left):\n",
    "    server = smtplib.SMTP('smtp.gmail.com', 587)\n",
    "    server.ehlo()\n",
    "    server.starttls()\n",
    "    server.ehlo()\n",
    "\n",
    "    server.login('youremail@gmail.com', 'password') # Replace email with actual email here. Create an app password with the Google account to use here.\n",
    "    msg = f'Subject: Your MOT is expiring soon!\\n\\n'\\\n",
    "        f'Dear Customer,\\n\\n'\\\n",
    "        f'The MOT for your vehicle with the registration: {reg} expires in {days_left} days!\\n\\n'\\\n",
    "        f'Call us now at 0123456789 to book your MOT appointment or visit us at ABC Autos Ltd, 1 London Road, London.'\\\n",
    "        f'\\n\\n'\\\n",
    "        f'Kind regards,\\n\\nThe ABC team'\n",
    "\n",
    "    server.sendmail(\n",
    "        'youremail@gmail.com', # Replace email with actual email.\n",
    "        ownerEmail,\n",
    "        msg\n",
    "    )\n",
    "    print('Email sent!')\n",
    "\n",
    "\n",
    "    server.quit()"
   ]
  },
  {
   "cell_type": "code",
   "execution_count": null,
   "id": "d53f1d9b",
   "metadata": {},
   "outputs": [],
   "source": [
    "account_sid = '...' # Twilio account sid\n",
    "auth_token = '...' # Twilio auth_token"
   ]
  },
  {
   "cell_type": "code",
   "execution_count": null,
   "id": "d96e53e7",
   "metadata": {},
   "outputs": [],
   "source": [
    "# Function to send sms to vehicle owners.\n",
    "\n",
    "def send_twilio(ownerNumber, reg, days_left):\n",
    "    client = Client(account_sid, auth_token)\n",
    "    client.messages.create(\n",
    "        to=ownerNumber,\n",
    "        from_='twilio phone number goes here', # replace with the twilio phone number\n",
    "        body=f\"Dear Customer,\\n\\n\"\n",
    "    f\"The MOT for your vehicle: {reg} expires in {days_left} days!\\n\\n\"\n",
    "    f\"Call us now at 0123456789 to book your MOT appointment.\\n\\n\"\n",
    "    f\"Kind regards,\\n\\nThe ABC team\"\n",
    "\n",
    "    )\n",
    "    print('Message sent!')"
   ]
  },
  {
   "cell_type": "code",
   "execution_count": null,
   "id": "540b99f4",
   "metadata": {},
   "outputs": [],
   "source": [
    "# Function to call the send_email() and send_twilio() functions.\n",
    "# Added counters to keep track of how many emails/texts sent.\n",
    "\n",
    "def send_reminder():\n",
    "    mailCounter = 0\n",
    "    textCounter = 0\n",
    "    for row in df.iterrows():\n",
    "        print(row[1][3])\n",
    "        if row[1][3] < 30: # if there are less than 30 days left for any vehicle's MOT, it will send them an email and text.\n",
    "            send_mail(ownerEmail=row[1][1], reg=row[1][0], days_left=row[1][3])\n",
    "            mailCounter+=1\n",
    "            send_twilio(ownerNumber=row[1][2], reg=row[1][0], days_left=row[1][3])\n",
    "            textCounter+=1\n",
    "        print(f'Email counter = {mailCounter}')\n",
    "        print(f'Text counter = {textCounter}')"
   ]
  },
  {
   "cell_type": "code",
   "execution_count": null,
   "id": "1ed7708c",
   "metadata": {},
   "outputs": [],
   "source": [
    "# Function to call get_days_left() and send_reminder() which should loop every 24 hours.\n",
    "# Every 24 hours, the program will pull new data from the MOT database.\n",
    "# \n",
    "while True:\n",
    "    get_days_left()\n",
    "    df['mobile'] = df['mobile'].astype(str)\n",
    "    send_reminder()\n",
    "    time.sleep(86400)"
   ]
  },
  {
   "cell_type": "code",
   "execution_count": null,
   "id": "f873eb48",
   "metadata": {},
   "outputs": [],
   "source": []
  }
 ],
 "metadata": {
  "kernelspec": {
   "display_name": "Python 3",
   "language": "python",
   "name": "python3"
  },
  "language_info": {
   "codemirror_mode": {
    "name": "ipython",
    "version": 3
   },
   "file_extension": ".py",
   "mimetype": "text/x-python",
   "name": "python",
   "nbconvert_exporter": "python",
   "pygments_lexer": "ipython3",
   "version": "3.8.8"
  }
 },
 "nbformat": 4,
 "nbformat_minor": 5
}
